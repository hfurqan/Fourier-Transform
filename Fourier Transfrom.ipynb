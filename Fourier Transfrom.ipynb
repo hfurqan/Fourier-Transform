{
 "cells": [
  {
   "cell_type": "code",
   "execution_count": 1,
   "metadata": {},
   "outputs": [],
   "source": [
    "import numpy as np\n",
    "\n",
    "import pandas as pd\n",
    "\n",
    "import scipy\n",
    "\n",
    "import struct \n",
    "\n",
    "import wave\n",
    "\n",
    "import matplotlib.pyplot as plt"
   ]
  },
  {
   "cell_type": "markdown",
   "metadata": {},
   "source": [
    "### NyQuist Sampling Theorm\n",
    "The sampling frequency should be at least twice the highest frequency contained in the signal.\n",
    "\n",
    "\\begin{equation} \n",
    "f_{s} = 2f_{c}\n",
    "\\end{equation}\n",
    "\n",
    "In the above equation $f_{s}$ is the sampling frequency (how often samples are taken per unit of time or\n",
    "space), and $f_{c}$ is the highest frequency contained in the signal."
   ]
  },
  {
   "cell_type": "markdown",
   "metadata": {},
   "source": [
    "### Creating a sinsouidal wave\n",
    "Sum of two sinosouidal waves are taken, both having an amplitude of $1000$ and a frequency of $390Hz$ and $440Hz$\n",
    "respectively."
   ]
  },
  {
   "cell_type": "code",
   "execution_count": 2,
   "metadata": {},
   "outputs": [],
   "source": [
    "amp1 = 1000\n",
    "amp2 = 1000\n",
    "freq1 = 390\n",
    "freq2 = 440\n",
    "sampling_rate = 1000 #should be atleast twice the highest frequency (i.e 440Hz see Nyquist-Sampling Theorm)\n",
    "datasize = 200000\n",
    "t = np.linspace(0,datasize/sampling_rate,datasize)\n",
    "signal = amp1 * np.sin(freq1 * 2 * np.pi * t) + amp2 * np.sin(freq2 * 2 * np.pi * t)"
   ]
  },
  {
   "cell_type": "code",
   "execution_count": 3,
   "metadata": {
    "scrolled": false
   },
   "outputs": [
    {
     "data": {
      "image/png": "[encoded data removed]",
      "text/plain": [
       "<Figure size 432x288 with 1 Axes>"
      ]
     },
     "metadata": {},
     "output_type": "display_data"
    }
   ],
   "source": [
    "plt.plot(t, signal)\n",
    "plt.savefig('signal.png')"
   ]
  },
  {
   "cell_type": "code",
   "execution_count": 4,
   "metadata": {},
   "outputs": [],
   "source": [
    "#Creating a wav file for orignal signal\n",
    "fname = \"sound_orignal.wav\"\n",
    "nchannels = 1 # 1 for mono 2 for stereo\n",
    "sampwidth = 2 # Sampling frequency\n",
    "framerate = int(sampling_rate)\n",
    "nframes = datasize\n",
    "comptype = \"NONE\"\n",
    "compname = \"not compressed\"\n",
    "\n",
    "wav_file = wave.open(fname, 'w')\n",
    "wav_file.setparams(\n",
    "    (nchannels, sampwidth, framerate, nframes, comptype, compname))\n",
    "for s in signal:\n",
    "     wav_file.writeframes(struct.pack('h', int(s)))\n",
    "wav_file.close()"
   ]
  },
  {
   "cell_type": "code",
   "execution_count": 5,
   "metadata": {},
   "outputs": [],
   "source": [
    "fname = \"sound_orignal.wav\"\n",
    "\n",
    "wav_file = wave.open(fname, 'r')\n",
    "frate = (wav_file.getframerate())\n",
    "sample_width = (wav_file.getsampwidth())\n",
    "nchannels = (wav_file.getnchannels())\n",
    "\n",
    "data = wav_file.readframes(datasize)\n",
    "wav_file.close()\n",
    "data = struct.unpack('{n}h'.format(n=datasize), data)\n",
    "data = np.array(data)"
   ]
  },
  {
   "cell_type": "code",
   "execution_count": 6,
   "metadata": {},
   "outputs": [
    {
     "name": "stdout",
     "output_type": "stream",
     "text": [
      "Highest frequency observed is: 440.00000000000006 Hz\n"
     ]
    },
    {
     "data": {
      "image/png": "[encoded data removed]",
      "text/plain": [
       "<Figure size 432x288 with 1 Axes>"
      ]
     },
     "metadata": {},
     "output_type": "display_data"
    }
   ],
   "source": [
    "#Applying Fourier transform\n",
    "w = np.fft.fft(data)\n",
    "freqs = np.fft.fftfreq(len(w))\n",
    "#print(freqs.min(), freqs.max()) # Will always be in a range [-0.5 0.5)\n",
    "plt.plot(freqs,abs(w))\n",
    "\n",
    "# Find the peak in the coefficients\n",
    "idx = np.argmax(np.abs(w))\n",
    "freq = freqs[idx]\n",
    "freq_in_hertz = abs(freq * frate)\n",
    "print('Highest frequency observed is:', freq_in_hertz, 'Hz')"
   ]
  },
  {
   "cell_type": "code",
   "execution_count": 7,
   "metadata": {
    "scrolled": true
   },
   "outputs": [
    {
     "data": {
      "text/plain": [
       "[<matplotlib.lines.Line2D at 0x7f9a7841a208>]"
      ]
     },
     "execution_count": 7,
     "metadata": {},
     "output_type": "execute_result"
    },
    {
     "data": {
      "image/png": "[encoded data removed]",
      "text/plain": [
       "<Figure size 432x288 with 1 Axes>"
      ]
     },
     "metadata": {},
     "output_type": "display_data"
    }
   ],
   "source": [
    "# Frequency on xaxis is not correct since I didn't account for sampling rate\n",
    "# Correcting frequency and amplitute (see concept of leakage)\n",
    "new_freqs = freqs * frate\n",
    "plt.plot(new_freqs, 2 * np.abs(w) / len(np.abs(w)))"
   ]
  },
  {
   "cell_type": "code",
   "execution_count": 8,
   "metadata": {},
   "outputs": [
    {
     "data": {
      "image/png": "[encoded data removed]",
      "text/plain": [
       "<Figure size 432x288 with 1 Axes>"
      ]
     },
     "metadata": {},
     "output_type": "display_data"
    }
   ],
   "source": [
    "fft = w\n",
    "below_cutoff = np.abs(fft) < 390\n",
    "fft[below_cutoff] = 0\n",
    "cleaner_signal = scipy.ifft(fft)\n",
    "plt.plot(t, np.abs(cleaner_signal))\n",
    "plt.savefig('clean.png')"
   ]
  },
  {
   "cell_type": "code",
   "execution_count": 9,
   "metadata": {},
   "outputs": [],
   "source": [
    "#Creating a wav file for inverse signal\n",
    "fname = \"inverse_fft.wav\"\n",
    "nchannels = 1 # 1 for mono 2 for stereo\n",
    "sampwidth = 2 # Sampling frequency\n",
    "framerate = int(sampling_rate)\n",
    "nframes = datasize\n",
    "comptype = \"NONE\"\n",
    "compname = \"not compressed\"\n",
    "\n",
    "wav_file = wave.open(fname, 'w')\n",
    "wav_file.setparams(\n",
    "    (nchannels, sampwidth, framerate, nframes, comptype, compname))\n",
    "for s in np.abs(cleaner_signal):\n",
    "     wav_file.writeframes(struct.pack('h', int(s)))\n",
    "wav_file.close()"
   ]
  }
 ],
 "metadata": {
  "kernelspec": {
   "display_name": "Python 3",
   "language": "python",
   "name": "python3"
  },
  "language_info": {
   "codemirror_mode": {
    "name": "ipython",
    "version": 3
   },
   "file_extension": ".py",
   "mimetype": "text/x-python",
   "name": "python",
   "nbconvert_exporter": "python",
   "pygments_lexer": "ipython3",
   "version": "3.5.2"
  }
 },
 "nbformat": 4,
 "nbformat_minor": 2
}
